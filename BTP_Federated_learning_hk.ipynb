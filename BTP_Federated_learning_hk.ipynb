{
  "cells": [
    {
      "cell_type": "code",
      "execution_count": 194,
      "metadata": {
        "colab": {
          "base_uri": "https://localhost:8080/"
        },
        "id": "qh7728l0GFyD",
        "outputId": "16247859-a3bb-44a0-f8c5-0720d16da4f2"
      },
      "outputs": [
        {
          "name": "stdout",
          "output_type": "stream",
          "text": [
            "Looking in indexes: https://pypi.org/simple, https://us-python.pkg.dev/colab-wheels/public/simple/\n",
            "Requirement already satisfied: scikit-learn-extra in /usr/local/lib/python3.9/dist-packages (0.3.0)\n",
            "Requirement already satisfied: scikit-learn>=0.23.0 in /usr/local/lib/python3.9/dist-packages (from scikit-learn-extra) (1.2.2)\n",
            "Requirement already satisfied: numpy>=1.13.3 in /usr/local/lib/python3.9/dist-packages (from scikit-learn-extra) (1.22.4)\n",
            "Requirement already satisfied: scipy>=0.19.1 in /usr/local/lib/python3.9/dist-packages (from scikit-learn-extra) (1.10.1)\n",
            "Requirement already satisfied: threadpoolctl>=2.0.0 in /usr/local/lib/python3.9/dist-packages (from scikit-learn>=0.23.0->scikit-learn-extra) (3.1.0)\n",
            "Requirement already satisfied: joblib>=1.1.1 in /usr/local/lib/python3.9/dist-packages (from scikit-learn>=0.23.0->scikit-learn-extra) (1.2.0)\n"
          ]
        }
      ],
      "source": [
        "!pip install scikit-learn-extra"
      ]
    },
    {
      "cell_type": "code",
      "execution_count": 195,
      "metadata": {
        "id": "WWLpnThzKpfx"
      },
      "outputs": [],
      "source": [
        "import pandas as pd\n",
        "import numpy as np\n",
        "from sklearn.model_selection import train_test_split\n",
        "from sklearn.ensemble import RandomForestClassifier\n",
        "from sklearn.metrics import confusion_matrix, accuracy_score, precision_score, recall_score, f1_score, roc_curve\n",
        "from sklearn_extra.cluster import KMedoids\n",
        "from sklearn.preprocessing import OneHotEncoder"
      ]
    },
    {
      "cell_type": "code",
      "execution_count": 196,
      "metadata": {
        "id": "rn8Qm_Y_Ku0G"
      },
      "outputs": [],
      "source": [
        "# Load the malware dataset\n",
        "data = pd.read_csv('Malware dataset.csv')\n",
        "# Randomly select 100 rows from the dataset\n",
        "data = data.sample(n=10000, random_state=42)\n",
        "data.drop('hash', axis=1, inplace=True)"
      ]
    },
    {
      "cell_type": "code",
      "execution_count": 197,
      "metadata": {
        "colab": {
          "base_uri": "https://localhost:8080/"
        },
        "id": "yBr678AOK-mI",
        "outputId": "698d015b-eaae-433f-de2d-7f623b1b5718"
      },
      "outputs": [
        {
          "name": "stdout",
          "output_type": "stream",
          "text": [
            "millisecond          0\n",
            "classification       0\n",
            "state                0\n",
            "usage_counter        0\n",
            "prio                 0\n",
            "static_prio          0\n",
            "normal_prio          0\n",
            "policy               0\n",
            "vm_pgoff             0\n",
            "vm_truncate_count    0\n",
            "task_size            0\n",
            "cached_hole_size     0\n",
            "free_area_cache      0\n",
            "mm_users             0\n",
            "map_count            0\n",
            "hiwater_rss          0\n",
            "total_vm             0\n",
            "shared_vm            0\n",
            "exec_vm              0\n",
            "reserved_vm          0\n",
            "nr_ptes              0\n",
            "end_data             0\n",
            "last_interval        0\n",
            "nvcsw                0\n",
            "nivcsw               0\n",
            "min_flt              0\n",
            "maj_flt              0\n",
            "fs_excl_counter      0\n",
            "lock                 0\n",
            "utime                0\n",
            "stime                0\n",
            "gtime                0\n",
            "cgtime               0\n",
            "signal_nvcsw         0\n",
            "dtype: int64\n"
          ]
        },
        {
          "name": "stderr",
          "output_type": "stream",
          "text": [
            "<ipython-input-197-a58809f0d694>:11: FutureWarning: The default value of numeric_only in DataFrame.mean is deprecated. In a future version, it will default to False. In addition, specifying 'numeric_only=None' is deprecated. Select only valid columns or specify the value of numeric_only to silence this warning.\n",
            "  data.fillna(data.mean(), inplace=True)\n"
          ]
        }
      ],
      "source": [
        "# Define the number of clients\n",
        "num_clients = 3\n",
        "\n",
        "# print(data)\n",
        "# check for missing values\n",
        "print(data.isnull().sum())\n",
        "\n",
        "\n",
        "\n",
        "# fill missing values with mean of the column\n",
        "data.fillna(data.mean(), inplace=True)\n",
        "\n",
        "# get the number of unique values in each column\n",
        "unique_counts = data.nunique()\n",
        "\n",
        "# get the list of columns to drop\n",
        "to_drop = [col for col in unique_counts.index if unique_counts[col] == len(data)]\n",
        "\n",
        "# drop the columns\n",
        "data.drop(to_drop, axis=1, inplace=True)\n",
        "\n",
        "# Split the dataset into features and labels\n",
        "X = data.drop('classification', axis=1)\n",
        "y = data['classification']\n",
        "# print(y)\n",
        "\n",
        "# converting data to comparable data\n",
        "# one_hot_encoder = OneHotEncoder()\n",
        "# one_hot_encoded = one_hot_encoder.fit_transform(X.iloc[:, 0].values.reshape(-1, 1)).toarray()\n",
        "# print(one_hot_encoded.shape)\n",
        "# X = pd.concat([X.drop('hash', axis=1), pd.DataFrame(one_hot_encoded)], axis=1)\n",
        "# X.columns = X.columns.astype(str)\n",
        "# X = X.values\n"
      ]
    },
    {
      "cell_type": "code",
      "execution_count": 198,
      "metadata": {
        "id": "N53DTfKgLQ_F"
      },
      "outputs": [],
      "source": [
        "# Partition the dataset among the clients\n",
        "X_partitions = []\n",
        "y_partitions = []\n",
        "\n",
        "for i in range(num_clients):\n",
        "    # Split the dataset randomly\n",
        "    X_train, X_test, y_train, y_test = train_test_split(X, y, test_size=0.2, stratify=y, random_state=i)\n",
        "    \n",
        "    # Append the training set to the partitions\n",
        "    X_partitions.append(X_train)\n",
        "    y_partitions.append(y_train)\n",
        "    \n",
        "# Convert the partitions to numpy arrays\n",
        "X_partitions = [pd.DataFrame(X) for X in X_partitions]\n",
        "y_partitions = [pd.DataFrame(y) for y in y_partitions]\n"
      ]
    },
    {
      "cell_type": "code",
      "execution_count": 199,
      "metadata": {
        "id": "WcaEEMtIN24G"
      },
      "outputs": [],
      "source": [
        "from sklearn.metrics import pairwise_distances\n",
        "# from sklearn.metrics import f1_score, accuracy_score\n",
        "\n",
        "# Initialize the global model\n",
        "global_model = None\n",
        "\n",
        "# Define the number of clusters (i.e., the number of local models)\n",
        "num_clusters = len(X_partitions)\n",
        "\n",
        "# Train local models\n",
        "local_models = []\n",
        "for i in range(num_clusters):\n",
        "    # Train the local model on the current partition\n",
        "    kmedoids = KMedoids(n_clusters=1, random_state=i)\n",
        "    kmedoids.fit(X_partitions[i])\n",
        "    local_model = kmedoids\n",
        "\n",
        "    # Add the local model to the list of local models\n",
        "    local_models.append(local_model)\n",
        "\n",
        "# Perform federated learning\n",
        "for epoch in range(num_epochs):\n",
        "    # Aggregate the local models\n",
        "    cluster_centers = [model.cluster_centers_ for model in local_models]\n",
        "    global_model = np.mean(cluster_centers, axis=0)\n",
        "\n",
        "    # Train the local models on the global model\n",
        "    for i in range(num_clusters):\n",
        "        # Compute the distance between the global model and the local data\n",
        "        # Reshape input data to a 2D array with one column\n",
        "        X_2d = X_partitions[i].values.reshape(-1, 33)\n",
        "\n",
        "        # Compute distances to cluster centers\n",
        "        distances = pairwise_distances(X_2d, global_model.reshape(1, -1))\n",
        "\n",
        "        # Assign each data point to the nearest cluster\n",
        "        assignments = np.argmin(distances, axis=1)\n",
        "\n",
        "        # Train the local model on the assigned data points\n",
        "        for j in range(local_models[i].n_clusters):\n",
        "            # Select the data points assigned to the current cluster\n",
        "            cluster_data = X_partitions[i][assignments == j]\n",
        "\n",
        "            # Train the local model on the selected data points\n",
        "            local_model = KMedoids(n_clusters=1, random_state=i)\n",
        "            local_model.fit(cluster_data)\n",
        "            local_models[i] = local_model\n",
        "\n",
        "# Use the global model for prediction\n",
        "y_pred = np.argmin(pairwise_distances(X_test, global_model.reshape(1, -1)), axis=1)\n",
        "\n",
        "\n"
      ]
    },
    {
      "cell_type": "code",
      "execution_count": 200,
      "metadata": {
        "colab": {
          "base_uri": "https://localhost:8080/",
          "height": 581
        },
        "id": "h0ve_6oKtDta",
        "outputId": "14429310-41f0-419b-b19c-53b6b55e005a"
      },
      "outputs": [
        {
          "name": "stderr",
          "output_type": "stream",
          "text": [
            "/usr/local/lib/python3.9/dist-packages/sklearn/metrics/_classification.py:1344: UndefinedMetricWarning: Precision is ill-defined and being set to 0.0 due to no predicted samples. Use `zero_division` parameter to control this behavior.\n",
            "  _warn_prf(average, modifier, msg_start, len(result))\n"
          ]
        },
        {
          "name": "stdout",
          "output_type": "stream",
          "text": [
            "Precision: 0.0\n",
            "Recall: 0.0\n",
            "Accuracy: 0.503\n"
          ]
        },
        {
          "data": {
            "image/png": "[encoded data removed]",
            "text/plain": [
              "<Figure size 640x480 with 2 Axes>"
            ]
          },
          "metadata": {},
          "output_type": "display_data"
        }
      ],
      "source": [
        "label_map = {'benign': 0, 'malware': 1}\n",
        "y_test_all = np.array([label_map[label] for label in y_test])\n",
        "\n",
        "from sklearn.metrics import precision_score, recall_score, accuracy_score\n",
        "from sklearn.metrics import confusion_matrix\n",
        "import matplotlib.pyplot as plt\n",
        "import seaborn as sns\n",
        "\n",
        "# Compute confusion matrix\n",
        "cm = confusion_matrix(y_test_all, y_pred)\n",
        "\n",
        "# Compute precision\n",
        "precision = precision_score(y_test_all, y_pred)\n",
        "\n",
        "# Compute recall\n",
        "recall = recall_score(y_test_all, y_pred)\n",
        "\n",
        "# Compute accuracy\n",
        "accuracy = accuracy_score(y_test_all, y_pred)\n",
        "\n",
        "# Print the results\n",
        "print(\"Precision:\", precision)\n",
        "print(\"Recall:\", recall)\n",
        "print(\"Accuracy:\", accuracy)\n",
        "# Plot the confusion matrix with values inside it\n",
        "sns.set(font_scale=1.4)\n",
        "sns.heatmap(cm, annot=True, annot_kws={\"size\": 16}, cmap='Blues', fmt='g')\n",
        "plt.xlabel('Predicted label')\n",
        "plt.ylabel('True label')\n",
        "plt.show()\n"
      ]
    },
    {
      "cell_type": "code",
      "execution_count": 201,
      "metadata": {
        "colab": {
          "base_uri": "https://localhost:8080/"
        },
        "id": "NSZsUipT0FIQ",
        "outputId": "bd087b6c-5c3b-43d8-f35b-760d8474efc0"
      },
      "outputs": [
        {
          "name": "stderr",
          "output_type": "stream",
          "text": [
            "/usr/local/lib/python3.9/dist-packages/sklearn/preprocessing/_label.py:116: DataConversionWarning: A column-vector y was passed when a 1d array was expected. Please change the shape of y to (n_samples, ), for example using ravel().\n",
            "  y = column_or_1d(y, warn=True)\n",
            "/usr/local/lib/python3.9/dist-packages/sklearn/preprocessing/_label.py:116: DataConversionWarning: A column-vector y was passed when a 1d array was expected. Please change the shape of y to (n_samples, ), for example using ravel().\n",
            "  y = column_or_1d(y, warn=True)\n",
            "/usr/local/lib/python3.9/dist-packages/sklearn/preprocessing/_label.py:116: DataConversionWarning: A column-vector y was passed when a 1d array was expected. Please change the shape of y to (n_samples, ), for example using ravel().\n",
            "  y = column_or_1d(y, warn=True)\n"
          ]
        },
        {
          "name": "stdout",
          "output_type": "stream",
          "text": [
            "Epoch 1, Loss: 1.0986, Accuracy: 0.4969, Precision: 0.4969\n"
          ]
        },
        {
          "name": "stderr",
          "output_type": "stream",
          "text": [
            "/usr/local/lib/python3.9/dist-packages/sklearn/preprocessing/_label.py:116: DataConversionWarning: A column-vector y was passed when a 1d array was expected. Please change the shape of y to (n_samples, ), for example using ravel().\n",
            "  y = column_or_1d(y, warn=True)\n",
            "/usr/local/lib/python3.9/dist-packages/sklearn/preprocessing/_label.py:116: DataConversionWarning: A column-vector y was passed when a 1d array was expected. Please change the shape of y to (n_samples, ), for example using ravel().\n",
            "  y = column_or_1d(y, warn=True)\n",
            "/usr/local/lib/python3.9/dist-packages/sklearn/preprocessing/_label.py:116: DataConversionWarning: A column-vector y was passed when a 1d array was expected. Please change the shape of y to (n_samples, ), for example using ravel().\n",
            "  y = column_or_1d(y, warn=True)\n"
          ]
        },
        {
          "name": "stdout",
          "output_type": "stream",
          "text": [
            "Epoch 2, Loss: 1.0540, Accuracy: 0.4969, Precision: 0.4969\n"
          ]
        },
        {
          "name": "stderr",
          "output_type": "stream",
          "text": [
            "/usr/local/lib/python3.9/dist-packages/sklearn/preprocessing/_label.py:116: DataConversionWarning: A column-vector y was passed when a 1d array was expected. Please change the shape of y to (n_samples, ), for example using ravel().\n",
            "  y = column_or_1d(y, warn=True)\n",
            "/usr/local/lib/python3.9/dist-packages/sklearn/preprocessing/_label.py:116: DataConversionWarning: A column-vector y was passed when a 1d array was expected. Please change the shape of y to (n_samples, ), for example using ravel().\n",
            "  y = column_or_1d(y, warn=True)\n",
            "/usr/local/lib/python3.9/dist-packages/sklearn/preprocessing/_label.py:116: DataConversionWarning: A column-vector y was passed when a 1d array was expected. Please change the shape of y to (n_samples, ), for example using ravel().\n",
            "  y = column_or_1d(y, warn=True)\n"
          ]
        },
        {
          "name": "stdout",
          "output_type": "stream",
          "text": [
            "Epoch 3, Loss: 1.0174, Accuracy: 0.4969, Precision: 0.4969\n"
          ]
        },
        {
          "name": "stderr",
          "output_type": "stream",
          "text": [
            "/usr/local/lib/python3.9/dist-packages/sklearn/preprocessing/_label.py:116: DataConversionWarning: A column-vector y was passed when a 1d array was expected. Please change the shape of y to (n_samples, ), for example using ravel().\n",
            "  y = column_or_1d(y, warn=True)\n",
            "/usr/local/lib/python3.9/dist-packages/sklearn/preprocessing/_label.py:116: DataConversionWarning: A column-vector y was passed when a 1d array was expected. Please change the shape of y to (n_samples, ), for example using ravel().\n",
            "  y = column_or_1d(y, warn=True)\n",
            "/usr/local/lib/python3.9/dist-packages/sklearn/preprocessing/_label.py:116: DataConversionWarning: A column-vector y was passed when a 1d array was expected. Please change the shape of y to (n_samples, ), for example using ravel().\n",
            "  y = column_or_1d(y, warn=True)\n"
          ]
        },
        {
          "name": "stdout",
          "output_type": "stream",
          "text": [
            "Epoch 4, Loss: 0.9871, Accuracy: 0.4969, Precision: 0.4969\n"
          ]
        },
        {
          "name": "stderr",
          "output_type": "stream",
          "text": [
            "/usr/local/lib/python3.9/dist-packages/sklearn/preprocessing/_label.py:116: DataConversionWarning: A column-vector y was passed when a 1d array was expected. Please change the shape of y to (n_samples, ), for example using ravel().\n",
            "  y = column_or_1d(y, warn=True)\n",
            "/usr/local/lib/python3.9/dist-packages/sklearn/preprocessing/_label.py:116: DataConversionWarning: A column-vector y was passed when a 1d array was expected. Please change the shape of y to (n_samples, ), for example using ravel().\n",
            "  y = column_or_1d(y, warn=True)\n",
            "/usr/local/lib/python3.9/dist-packages/sklearn/preprocessing/_label.py:116: DataConversionWarning: A column-vector y was passed when a 1d array was expected. Please change the shape of y to (n_samples, ), for example using ravel().\n",
            "  y = column_or_1d(y, warn=True)\n"
          ]
        },
        {
          "name": "stdout",
          "output_type": "stream",
          "text": [
            "Epoch 5, Loss: 0.9617, Accuracy: 0.4969, Precision: 0.4969\n"
          ]
        },
        {
          "name": "stderr",
          "output_type": "stream",
          "text": [
            "/usr/local/lib/python3.9/dist-packages/sklearn/preprocessing/_label.py:116: DataConversionWarning: A column-vector y was passed when a 1d array was expected. Please change the shape of y to (n_samples, ), for example using ravel().\n",
            "  y = column_or_1d(y, warn=True)\n",
            "/usr/local/lib/python3.9/dist-packages/sklearn/preprocessing/_label.py:116: DataConversionWarning: A column-vector y was passed when a 1d array was expected. Please change the shape of y to (n_samples, ), for example using ravel().\n",
            "  y = column_or_1d(y, warn=True)\n",
            "/usr/local/lib/python3.9/dist-packages/sklearn/preprocessing/_label.py:116: DataConversionWarning: A column-vector y was passed when a 1d array was expected. Please change the shape of y to (n_samples, ), for example using ravel().\n",
            "  y = column_or_1d(y, warn=True)\n"
          ]
        },
        {
          "name": "stdout",
          "output_type": "stream",
          "text": [
            "Epoch 6, Loss: 0.9402, Accuracy: 0.4969, Precision: 0.4969\n"
          ]
        },
        {
          "name": "stderr",
          "output_type": "stream",
          "text": [
            "/usr/local/lib/python3.9/dist-packages/sklearn/preprocessing/_label.py:116: DataConversionWarning: A column-vector y was passed when a 1d array was expected. Please change the shape of y to (n_samples, ), for example using ravel().\n",
            "  y = column_or_1d(y, warn=True)\n",
            "/usr/local/lib/python3.9/dist-packages/sklearn/preprocessing/_label.py:116: DataConversionWarning: A column-vector y was passed when a 1d array was expected. Please change the shape of y to (n_samples, ), for example using ravel().\n",
            "  y = column_or_1d(y, warn=True)\n",
            "/usr/local/lib/python3.9/dist-packages/sklearn/preprocessing/_label.py:116: DataConversionWarning: A column-vector y was passed when a 1d array was expected. Please change the shape of y to (n_samples, ), for example using ravel().\n",
            "  y = column_or_1d(y, warn=True)\n"
          ]
        },
        {
          "name": "stdout",
          "output_type": "stream",
          "text": [
            "Epoch 7, Loss: 0.9218, Accuracy: 0.4969, Precision: 0.4969\n"
          ]
        },
        {
          "name": "stderr",
          "output_type": "stream",
          "text": [
            "/usr/local/lib/python3.9/dist-packages/sklearn/preprocessing/_label.py:116: DataConversionWarning: A column-vector y was passed when a 1d array was expected. Please change the shape of y to (n_samples, ), for example using ravel().\n",
            "  y = column_or_1d(y, warn=True)\n",
            "/usr/local/lib/python3.9/dist-packages/sklearn/preprocessing/_label.py:116: DataConversionWarning: A column-vector y was passed when a 1d array was expected. Please change the shape of y to (n_samples, ), for example using ravel().\n",
            "  y = column_or_1d(y, warn=True)\n",
            "/usr/local/lib/python3.9/dist-packages/sklearn/preprocessing/_label.py:116: DataConversionWarning: A column-vector y was passed when a 1d array was expected. Please change the shape of y to (n_samples, ), for example using ravel().\n",
            "  y = column_or_1d(y, warn=True)\n"
          ]
        },
        {
          "name": "stdout",
          "output_type": "stream",
          "text": [
            "Epoch 8, Loss: 0.9060, Accuracy: 0.4969, Precision: 0.4969\n"
          ]
        },
        {
          "name": "stderr",
          "output_type": "stream",
          "text": [
            "/usr/local/lib/python3.9/dist-packages/sklearn/preprocessing/_label.py:116: DataConversionWarning: A column-vector y was passed when a 1d array was expected. Please change the shape of y to (n_samples, ), for example using ravel().\n",
            "  y = column_or_1d(y, warn=True)\n",
            "/usr/local/lib/python3.9/dist-packages/sklearn/preprocessing/_label.py:116: DataConversionWarning: A column-vector y was passed when a 1d array was expected. Please change the shape of y to (n_samples, ), for example using ravel().\n",
            "  y = column_or_1d(y, warn=True)\n",
            "/usr/local/lib/python3.9/dist-packages/sklearn/preprocessing/_label.py:116: DataConversionWarning: A column-vector y was passed when a 1d array was expected. Please change the shape of y to (n_samples, ), for example using ravel().\n",
            "  y = column_or_1d(y, warn=True)\n"
          ]
        },
        {
          "name": "stdout",
          "output_type": "stream",
          "text": [
            "Epoch 9, Loss: 0.8921, Accuracy: 0.4969, Precision: 0.4969\n"
          ]
        },
        {
          "name": "stderr",
          "output_type": "stream",
          "text": [
            "/usr/local/lib/python3.9/dist-packages/sklearn/preprocessing/_label.py:116: DataConversionWarning: A column-vector y was passed when a 1d array was expected. Please change the shape of y to (n_samples, ), for example using ravel().\n",
            "  y = column_or_1d(y, warn=True)\n",
            "/usr/local/lib/python3.9/dist-packages/sklearn/preprocessing/_label.py:116: DataConversionWarning: A column-vector y was passed when a 1d array was expected. Please change the shape of y to (n_samples, ), for example using ravel().\n",
            "  y = column_or_1d(y, warn=True)\n",
            "/usr/local/lib/python3.9/dist-packages/sklearn/preprocessing/_label.py:116: DataConversionWarning: A column-vector y was passed when a 1d array was expected. Please change the shape of y to (n_samples, ), for example using ravel().\n",
            "  y = column_or_1d(y, warn=True)\n"
          ]
        },
        {
          "name": "stdout",
          "output_type": "stream",
          "text": [
            "Epoch 10, Loss: 0.8800, Accuracy: 0.4969, Precision: 0.4969\n"
          ]
        }
      ],
      "source": [
        "import torch\n",
        "import torch.nn as nn\n",
        "import torch.optim as optim\n",
        "import torch.nn.functional as F\n",
        "import numpy as np\n",
        "from sklearn.cluster import KMeans, DBSCAN\n",
        "from sklearn.preprocessing import LabelEncoder\n",
        "\n",
        "# Define the local models\n",
        "local_models = []\n",
        "for i in range(num_clusters):\n",
        "    # Train the local model on the current partition using DBSCAN\n",
        "    dbscan = DBSCAN(eps=0.5, min_samples=5)\n",
        "    dbscan.fit(X_partitions[i])\n",
        "    local_model = dbscan\n",
        "\n",
        "    # Add the local model to the list of local models\n",
        "    local_models.append(local_model)\n",
        "\n",
        "# Define the global model\n",
        "class MyModel(nn.Module):\n",
        "    def __init__(self, num_features):\n",
        "        super(MyModel, self).__init__()\n",
        "        self.dense1 = nn.Linear(num_features, 64)\n",
        "        self.dense2 = nn.Linear(64, 3)\n",
        "\n",
        "    def forward(self, x):\n",
        "        x = F.relu(self.dense1(x))\n",
        "        x = self.dense2(x)\n",
        "        return x\n",
        "\n",
        "global_model = MyModel(num_features=X.shape[1])\n",
        "\n",
        "# Define the optimizer and loss function\n",
        "optimizer = optim.SGD(global_model.parameters(), lr=0.1)\n",
        "loss_fn = F.cross_entropy\n",
        "\n",
        "# Train the global model using federated learning\n",
        "num_epochs = 10\n",
        "for epoch in range(num_epochs):\n",
        "    # Update the global model using local models\n",
        "    for i in range(len(X_partitions)):\n",
        "        # Get the data from the current partition\n",
        "        x = torch.from_numpy(X_partitions[i].values).float()\n",
        "\n",
        "        label_encoder = LabelEncoder()\n",
        "        y = label_encoder.fit_transform(y_partitions[i])\n",
        "        y = torch.from_numpy(y).long()\n",
        "\n",
        "        # Compute the local gradients and update the global model\n",
        "        local_model = local_models[i]\n",
        "        preds = local_model.fit_predict(x)\n",
        "        mask = preds != -1\n",
        "        optimizer.zero_grad()\n",
        "        loss = loss_fn(global_model(x[mask]), y[mask])\n",
        "        loss.backward()\n",
        "        optimizer.step()\n",
        "\n",
        "    # Evaluate the global model\n",
        "    with torch.no_grad():\n",
        "      x = torch.from_numpy(X.to_numpy()).float()\n",
        "      y = torch.from_numpy(y.numpy()).long()\n",
        "      num_samples = min(x.shape[0], y.shape[0], 8000)\n",
        "      indices = torch.randperm(num_samples)\n",
        "      x = x[indices]\n",
        "      y = y[indices]\n",
        "\n",
        "      # Compute the loss and accuracy\n",
        "      loss = loss_fn(global_model(x), y)\n",
        "      preds = torch.argmax(global_model(x), dim=1)\n",
        "      accuracy = torch.mean((preds == y).float())\n",
        "      precision = torch.sum((preds == y).float() * (y == 1).float()) / torch.sum((preds == 1).float())\n",
        "\n",
        "      # Print the epoch, loss, accuracy, and precision\n",
        "      print(f'Epoch {epoch + 1}, Loss: {loss.item():.4f}, Accuracy: {accuracy.item():.4f}, Precision: {precision.item():.4f}')\n",
        "\n"
      ]
    }
  ],
  "metadata": {
    "colab": {
      "provenance": []
    },
    "kernelspec": {
      "display_name": "Python 3",
      "name": "python3"
    },
    "language_info": {
      "name": "python"
    }
  },
  "nbformat": 4,
  "nbformat_minor": 0
}
